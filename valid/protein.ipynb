{
  "cells": [
    {
      "cell_type": "code",
      "execution_count": null,
      "metadata": {
        "id": "V4xMdftcvNi1"
      },
      "outputs": [],
      "source": [
        "!pip install -q condacolab\n",
        "!python -c \"import condacolab; condacolab.install()\"\n",
        "!conda config --add channels bioconda\n",
        "!conda config --add channels conda-forge\n",
        "!conda config --set channel_priority strict\n",
        "\n",
        "!conda create -y -c conda-forge -c bioconda -n amrfinder --strict-channel-priority ncbi-amrfinderplus\n",
        "!conda init\n",
        "!source activate amrfinder\n",
        "!conda install blast ncbi-amrfinderplus blast hmmer biopython\n",
        "!pip install orffinder\n",
        "!amrfinder -u"
      ]
    },
    {
      "cell_type": "code",
      "execution_count": null,
      "metadata": {
        "id": "DXaD-hRi57OX"
      },
      "outputs": [],
      "source": [
        "from orffinder import orffinder\n",
        "from Bio import SeqIO\n",
        "import numpy as np\n",
        "import pandas as pd\n",
        "import matplotlib.pyplot as plt\n",
        "import json\n",
        "import os\n",
        "from tqdm import tqdm\n",
        "join = os.path.join"
      ]
    },
    {
      "cell_type": "code",
      "execution_count": null,
      "metadata": {
        "id": "iVYFp5f2sO-9"
      },
      "outputs": [],
      "source": [
        "root_dir='/content/drive/MyDrive/igem-2024'"
      ]
    },
    {
      "cell_type": "code",
      "execution_count": null,
      "metadata": {
        "id": "KYva24OHr-QM"
      },
      "outputs": [],
      "source": [
        "json_dict = {}\n",
        "with open(join(root_dir, 'finetune_2024-09-07-10-59_samples.json'), 'r') as f:\n",
        "    json_dict = json.load(f)"
      ]
    },
    {
      "cell_type": "code",
      "execution_count": null,
      "metadata": {
        "id": "F-qDkWI5zphB"
      },
      "outputs": [],
      "source": [
        "protein_dirs = 'finetune_fasta_samples'\n",
        "os.makedirs(join(root_dir, protein_dirs), exist_ok=True)"
      ]
    },
    {
      "cell_type": "code",
      "execution_count": null,
      "metadata": {
        "id": "35gsCWNC00xe",
        "colab": {
          "base_uri": "https://localhost:8080/"
        },
        "outputId": "3a30bf8a-3bc7-432f-97ad-47114545c01f"
      },
      "outputs": [
        {
          "output_type": "stream",
          "name": "stdout",
          "text": [
            "[1887 2047]\n"
          ]
        }
      ],
      "source": [
        "length_lst = []\n",
        "for i in range(len(json_dict['data'])):\n",
        "    length_lst.append(len(json_dict['data'][i][0]))\n",
        "print(np.unique(np.array(length_lst)))"
      ]
    },
    {
      "cell_type": "code",
      "execution_count": null,
      "metadata": {
        "id": "b6JU8IGkGKzO"
      },
      "outputs": [],
      "source": [
        "for i in tqdm(range(1, 11)):\n",
        "  with open(join(root_dir, protein_dirs, f'finetune_sample_part{str(i)}.fasta'), 'w') as f:\n",
        "    for j, row in enumerate(json_dict['data']):\n",
        "        if (i-1)*1000 < j < i*1000:\n",
        "          f.write(f'>sp{j}\\n{row[0]}\\n')\n"
      ]
    },
    {
      "cell_type": "code",
      "execution_count": null,
      "metadata": {
        "id": "DWTvmXIxuXk6"
      },
      "outputs": [],
      "source": [
        "sample_seq = \">sp|\"+json_dict['data'][0][0]"
      ]
    },
    {
      "cell_type": "code",
      "execution_count": null,
      "metadata": {
        "id": "vTOwd9QQuXnN"
      },
      "outputs": [],
      "source": [
        "sample_seq"
      ]
    },
    {
      "cell_type": "code",
      "source": [
        "os.makedirs(join(root_dir, 'amrfinder_dna_samples'), exist_ok=True)"
      ],
      "metadata": {
        "id": "_GFP0nEJ6mRe"
      },
      "execution_count": null,
      "outputs": []
    },
    {
      "cell_type": "markdown",
      "source": [
        "# **Blast finetuned DNA plasmid sequences against AMRFinderPlus Database for protein**\n",
        "Criteria/Thresholds:\n",
        "- --plus: blast against additional\n",
        "protein databases: AMR, virulence, stress response (biocide, metal, heat resistance), atigens, porins\n",
        "- -O Escheria: only on E Coli\n",
        "- --flank_size 100: exend an additional 100 bq flanking sequence to identified sequences along the 5' direction\n",
        "- --coverage_min 0.2: minimum identity coverage cutoff = 20% (current lowest maximum identity matches achieved by ProGen)\n"
      ],
      "metadata": {
        "id": "jVzUJ83nK5oH"
      }
    },
    {
      "cell_type": "code",
      "source": [
        "def run_amrfinder(input_folder, output_folder):\n",
        "    os.makedirs(output_folder, exist_ok=True)\n",
        "    for filename in tqdm(os.listdir(input_folder)):\n",
        "        filepath = os.path.join(input_folder, filename)\n",
        "\n",
        "        if os.path.isfile(filepath):\n",
        "            output_seq_dir = os.path.join(output_folder, f\"{os.path.splitext(filename)[0]}.fasta\")\n",
        "            output_metadata_dir = os.path.join(output_folder, f\"{os.path.splitext(filename)[0]}.tsv\")\n",
        "            with open(output_metadata_dir, 'w') as f:\n",
        "              !amrfinder -n $filepath \\\n",
        "                        --plus \\\n",
        "                        --threads 4 \\\n",
        "                        -O Escherichia \\\n",
        "                        --nucleotide_flank5_output $output_seq_dir \\\n",
        "                        --nucleotide_flank5_size 100 \\\n",
        "                        --coverage_min 0.2 \\\n",
        "                        > $output_metadata_dir\n",
        "\n",
        "run_amrfinder(input_folder=join(root_dir, 'finetune_fasta_samples'),\n",
        "              output_folder=join(root_dir, 'amrfinder_output'))"
      ],
      "metadata": {
        "colab": {
          "base_uri": "https://localhost:8080/"
        },
        "id": "j33TG-FpirHj",
        "outputId": "39c224a6-f6d2-4d9f-b42e-0e90173f517b"
      },
      "execution_count": null,
      "outputs": [
        {
          "output_type": "stream",
          "name": "stderr",
          "text": [
            "100%|██████████| 10/10 [00:00<00:00, 100.34it/s]\n"
          ]
        }
      ]
    },
    {
      "cell_type": "code",
      "source": [
        "import glob\n",
        "with open(join(root_dir, \"all_finetune_amrfinder_output.tsv\"), \"w\") as outfile:\n",
        "  included_header = False\n",
        "  for in_path in glob.glob(join(root_dir, \"amrfinder_output\", \"*.tsv\")):\n",
        "    header_line = True\n",
        "    with open(in_path) as infile:\n",
        "      for line in infile:\n",
        "        if header_line:\n",
        "          if not included_header:\n",
        "            outfile.write(line)\n",
        "            included_header = True\n",
        "          header_line = False\n",
        "        else:\n",
        "          outfile.write(line)\n"
      ],
      "metadata": {
        "id": "JiDnayAMIJpp"
      },
      "execution_count": null,
      "outputs": []
    },
    {
      "cell_type": "markdown",
      "source": [
        "# **Some metadata of identified protein sequences**"
      ],
      "metadata": {
        "id": "1s-lRngdMr1C"
      }
    },
    {
      "cell_type": "code",
      "source": [
        "aa_seq_df = pd.read_csv(join(root_dir, \"all_finetune_amrfinder_output.tsv\"), sep=\"\\t\")\n",
        "fig, ax = plt.subplots(figsize=(6, 4))\n",
        "aa_seq_df['Alignment length'].plot(kind='hist', density=True, bins=20)\n",
        "aa_seq_df['Alignment length'].plot(kind='kde')\n",
        "ax.set_xlabel('Alignment length')\n",
        "ax.set_ylabel('Frequency')\n",
        "ax.set_title('Alignment length distribution')\n",
        "plt.show()\n",
        "plt.save(join(root_dir, 'alignment_length_distribution.png'))\n"
      ],
      "metadata": {
        "colab": {
          "base_uri": "https://localhost:8080/",
          "height": 410
        },
        "id": "4fN98Z1NMq29",
        "outputId": "565f0800-5df6-43f5-cf13-127f41a11bad"
      },
      "execution_count": null,
      "outputs": [
        {
          "output_type": "display_data",
          "data": {
            "text/plain": [
              "<Figure size 600x400 with 1 Axes>"
            ],
            "image/png": "[encoded data removed]"
          },
          "metadata": {}
        }
      ]
    },
    {
      "cell_type": "code",
      "source": [
        "fig, ax = plt.subplots(figsize=(6, 4))\n",
        "aa_seq_df['% Coverage of reference sequence'].plot(kind='hist', density=False, bins=15)\n",
        "ax.set_xlabel('% Coverage of reference sequence')\n",
        "ax.set_ylabel('Count')\n",
        "ax.set_title('% Coverage of reference sequence')\n",
        "\n",
        "plt.show()\n",
        "plt.save(join(root_dir, 'coverage_distribution.png'))"
      ],
      "metadata": {
        "colab": {
          "base_uri": "https://localhost:8080/",
          "height": 410
        },
        "id": "tI-5CXDMN6nq",
        "outputId": "ba302851-8315-4c5c-cad2-20fc7716746a"
      },
      "execution_count": null,
      "outputs": [
        {
          "output_type": "display_data",
          "data": {
            "text/plain": [
              "<Figure size 600x400 with 1 Axes>"
            ],
            "image/png": "[encoded data removed]"
          },
          "metadata": {}
        }
      ]
    },
    {
      "cell_type": "code",
      "source": [
        "fig, ax = plt.subplots(figsize=(6, 4))\n",
        "aa_seq_df['% Identity to reference sequence'].plot(kind='hist', density=False, bins=7)\n",
        "ax.set_xlabel('% Identity to reference sequence')\n",
        "ax.set_ylabel('Count')\n",
        "ax.set_title('Percent match distribution')\n",
        "\n",
        "plt.show()\n",
        "plt.save(join(root_dir, 'identity_distribution.png'))"
      ],
      "metadata": {
        "colab": {
          "base_uri": "https://localhost:8080/",
          "height": 410
        },
        "id": "HYbR-bqKPKN2",
        "outputId": "5086cfb8-ea9d-4687-819b-01a0504f7e5d"
      },
      "execution_count": null,
      "outputs": [
        {
          "output_type": "display_data",
          "data": {
            "text/plain": [
              "<Figure size 600x400 with 1 Axes>"
            ],
            "image/png": "[encoded data removed]"
          },
          "metadata": {}
        }
      ]
    },
    {
      "cell_type": "markdown",
      "source": [
        "**Filter for sequences with length greater than 300bp**"
      ],
      "metadata": {
        "id": "8aBlXUtPTFX3"
      }
    },
    {
      "cell_type": "code",
      "source": [
        "uniq_id = []\n",
        "for i in range(len(aa_seq_df)):\n",
        "  row = aa_seq_df.iloc[i]\n",
        "  id = f\"{row.iloc[1]}:{int(row.iloc[2] - 100) if int(row.iloc[2]) > 100 else row.iloc[2]}-{row.iloc[3]}\"\n",
        "  uniq_id.append(id)\n",
        "aa_seq_df.insert(0, \"Unique ID\", uniq_id, True)\n",
        "print(\"Number of selected sequences: \", len(uniq_id))"
      ],
      "metadata": {
        "colab": {
          "base_uri": "https://localhost:8080/"
        },
        "id": "Pk8ZnGxzd_Eg",
        "outputId": "e34cf536-02be-456d-e3ec-3e97b6631afb"
      },
      "execution_count": null,
      "outputs": [
        {
          "output_type": "stream",
          "name": "stdout",
          "text": [
            "Number of selected sequences:  140\n"
          ]
        }
      ]
    },
    {
      "cell_type": "code",
      "execution_count": null,
      "metadata": {
        "id": "ZrZ3v6TKWOXO"
      },
      "outputs": [],
      "source": [
        "selected_amr_aa_seq = join(root_dir, 'final_finetune_aa_seq.fasta')\n",
        "\n",
        "from Bio import SeqIO\n",
        "from Bio.SeqRecord import SeqRecord\n",
        "def dna_to_aa(input_folder: str, output_dir: str, seq_df: pd.DataFrame):\n",
        "    final_aa_seqs = []\n",
        "    os.makedirs(os.path.dirname(output_dir), exist_ok=True)\n",
        "    with open(output_dir, \"w\") as outfile:\n",
        "      for filename in os.listdir(input_folder):\n",
        "        if filename.endswith('.fasta'):\n",
        "          input_dir = os.path.join(input_folder, filename)\n",
        "          count = 0\n",
        "          for dna_record in SeqIO.parse(input_dir, \"fasta\"):\n",
        "            count += 1\n",
        "            # use both forward and reverse complement sequences\n",
        "            try:\n",
        "              if dna_record.id in uniq_id:\n",
        "                dna_seqs = [dna_record.seq, dna_record.seq.reverse_complement()]\n",
        "              # generate all translation frames\n",
        "                aa_seqs = (s[i:].translate(to_stop=True) for i in range(3) for s in dna_seqs)\n",
        "                selected_aas = [seq for seq in aa_seqs if len(seq) > 300]\n",
        "                for selected_aa in selected_aas:\n",
        "                  print(\"length of selected amino acid sequences: \", len(selected_aa))\n",
        "                  aa_record = SeqRecord(selected_aa, id=dna_record.id, description=dna_record.description)\n",
        "                  SeqIO.write(aa_record, outfile, \"fasta\")\n",
        "                  final_aa_seqs.append(dna_record.id)\n",
        "            except Exception as e:\n",
        "              print(f'Error {e} at DNA seq id {dna_record.id} in file {filename}')\n",
        "              continue\n",
        "    final_seq_df = aa_seq_df[aa_seq_df['Unique ID'].isin(final_aa_seqs)]\n",
        "    final_seq_df.to_csv(join(root_dir, 'final_finetune_aa_seq.tsv'), sep=\"\\t\", index=False)\n",
        "    print('total number of dna seq:', count)\n",
        "\n",
        "dna_to_aa(input_folder=join(root_dir, 'amrfinder_output'), output_dir=selected_amr_aa_seq, seq_df = aa_seq_df)\n"
      ]
    },
    {
      "cell_type": "code",
      "execution_count": null,
      "metadata": {
        "id": "ytkO-DP1ImzW",
        "colab": {
          "resources": {
            "http://localhost/3Dmol/build/3Dmol.js": {
              "data": "",
              "ok": false,
              "headers": [
                [
                  "content-length",
                  "0"
                ]
              ],
              "status": 404,
              "status_text": ""
            }
          },
          "base_uri": "https://localhost:8080/",
          "height": 534
        },
        "outputId": "da4fb95f-f067-425f-f097-89769bf69903"
      },
      "outputs": [
        {
          "output_type": "display_data",
          "data": {
            "application/3dmoljs_load.v0": "<div id=\"3dmolviewer_1727054362498885\"  style=\"position: relative; width: 640px; height: 480px;\">\n        <p id=\"3dmolwarning_1727054362498885\" style=\"background-color:#ffcccc;color:black\">3Dmol.js failed to load for some reason.  Please check your browser console for error messages.<br></p>\n        </div>\n<script>\n\nvar loadScriptAsync = function(uri){\n  return new Promise((resolve, reject) => {\n    //this is to ignore the existence of requirejs amd\n    var savedexports, savedmodule;\n    if (typeof exports !== 'undefined') savedexports = exports;\n    else exports = {}\n    if (typeof module !== 'undefined') savedmodule = module;\n    else module = {}\n\n    var tag = document.createElement('script');\n    tag.src = uri;\n    tag.async = true;\n    tag.onload = () => {\n        exports = savedexports;\n        module = savedmodule;\n        resolve();\n    };\n  var firstScriptTag = document.getElementsByTagName('script')[0];\n  firstScriptTag.parentNode.insertBefore(tag, firstScriptTag);\n});\n};\n\nif(typeof $3Dmolpromise === 'undefined') {\n$3Dmolpromise = null;\n  $3Dmolpromise = loadScriptAsync('http://localhost/3Dmol/build/3Dmol.js');\n}\n\nvar viewer_1727054362498885 = null;\nvar warn = document.getElementById(\"3dmolwarning_1727054362498885\");\nif(warn) {\n    warn.parentNode.removeChild(warn);\n}\n$3Dmolpromise.then(function() {\nviewer_1727054362498885 = $3Dmol.createViewer(document.getElementById(\"3dmolviewer_1727054362498885\"),{backgroundColor:\"white\"});\n$3Dmol.download(\"1ycr\", viewer_1727054362498885, {}, function() {\nviewer_1727054362498885.zoomTo();\n\tviewer_1727054362498885.setStyle(\"cartoon\");\n\tviewer_1727054362498885.zoomTo();\n\tviewer_1727054362498885.spin();\n\tviewer_1727054362498885.view();\nviewer_1727054362498885.render();\n})\n});\n</script>",
            "text/html": [
              "<div id=\"3dmolviewer_1727054362498885\"  style=\"position: relative; width: 640px; height: 480px;\">\n",
              "        <p id=\"3dmolwarning_1727054362498885\" style=\"background-color:#ffcccc;color:black\">3Dmol.js failed to load for some reason.  Please check your browser console for error messages.<br></p>\n",
              "        </div>\n",
              "<script>\n",
              "\n",
              "var loadScriptAsync = function(uri){\n",
              "  return new Promise((resolve, reject) => {\n",
              "    //this is to ignore the existence of requirejs amd\n",
              "    var savedexports, savedmodule;\n",
              "    if (typeof exports !== 'undefined') savedexports = exports;\n",
              "    else exports = {}\n",
              "    if (typeof module !== 'undefined') savedmodule = module;\n",
              "    else module = {}\n",
              "\n",
              "    var tag = document.createElement('script');\n",
              "    tag.src = uri;\n",
              "    tag.async = true;\n",
              "    tag.onload = () => {\n",
              "        exports = savedexports;\n",
              "        module = savedmodule;\n",
              "        resolve();\n",
              "    };\n",
              "  var firstScriptTag = document.getElementsByTagName('script')[0];\n",
              "  firstScriptTag.parentNode.insertBefore(tag, firstScriptTag);\n",
              "});\n",
              "};\n",
              "\n",
              "if(typeof $3Dmolpromise === 'undefined') {\n",
              "$3Dmolpromise = null;\n",
              "  $3Dmolpromise = loadScriptAsync('http://localhost/3Dmol/build/3Dmol.js');\n",
              "}\n",
              "\n",
              "var viewer_1727054362498885 = null;\n",
              "var warn = document.getElementById(\"3dmolwarning_1727054362498885\");\n",
              "if(warn) {\n",
              "    warn.parentNode.removeChild(warn);\n",
              "}\n",
              "$3Dmolpromise.then(function() {\n",
              "viewer_1727054362498885 = $3Dmol.createViewer(document.getElementById(\"3dmolviewer_1727054362498885\"),{backgroundColor:\"white\"});\n",
              "$3Dmol.download(\"1ycr\", viewer_1727054362498885, {}, function() {\n",
              "viewer_1727054362498885.zoomTo();\n",
              "\tviewer_1727054362498885.setStyle(\"cartoon\");\n",
              "\tviewer_1727054362498885.zoomTo();\n",
              "\tviewer_1727054362498885.spin();\n",
              "\tviewer_1727054362498885.view();\n",
              "viewer_1727054362498885.render();\n",
              "})\n",
              "});\n",
              "</script>"
            ]
          },
          "metadata": {}
        },
        {
          "output_type": "execute_result",
          "data": {
            "text/plain": [
              "<py3Dmol.view at 0x7ab759fc2710>"
            ]
          },
          "metadata": {},
          "execution_count": 62
        }
      ],
      "source": []
    },
    {
      "cell_type": "code",
      "execution_count": null,
      "metadata": {
        "id": "p4wN2Y0bIm2D"
      },
      "outputs": [],
      "source": []
    },
    {
      "cell_type": "code",
      "execution_count": null,
      "metadata": {
        "id": "ioL8smvJIm5q"
      },
      "outputs": [],
      "source": []
    }
  ],
  "metadata": {
    "colab": {
      "machine_shape": "hm",
      "provenance": []
    },
    "kernelspec": {
      "display_name": "Python 3",
      "name": "python3"
    },
    "language_info": {
      "name": "python"
    }
  },
  "nbformat": 4,
  "nbformat_minor": 0
}